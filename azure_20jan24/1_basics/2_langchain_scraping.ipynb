{
 "cells": [
  {
   "cell_type": "markdown",
   "metadata": {},
   "source": [
    "Installing Necessary libraries"
   ]
  },
  {
   "cell_type": "code",
   "execution_count": 1,
   "metadata": {},
   "outputs": [
    {
     "name": "stdout",
     "output_type": "stream",
     "text": [
      "\u001b[33mWARNING: You are using pip version 21.2.4; however, version 23.3.2 is available.\n",
      "You should consider upgrading via the '/Users/edwarddennispraveen/Documents/azure_meetup/meetup/bin/python3 -m pip install --upgrade pip' command.\u001b[0m\n"
     ]
    }
   ],
   "source": [
    "!pip install -q openai langchain playwright beautifulsoup4 tiktoken\n",
    "!playwright install\n",
    "!playwright install-deps"
   ]
  },
  {
   "cell_type": "markdown",
   "metadata": {},
   "source": [
    "Setting up OpenAI"
   ]
  },
  {
   "cell_type": "code",
   "execution_count": 2,
   "metadata": {},
   "outputs": [
    {
     "name": "stderr",
     "output_type": "stream",
     "text": [
      "/Users/edwarddennispraveen/Documents/azure_meetup/meetup/lib/python3.9/site-packages/langchain_core/_api/deprecation.py:117: LangChainDeprecationWarning: The class `langchain_community.chat_models.openai.ChatOpenAI` was deprecated in langchain-community 0.0.10 and will be removed in 0.2.0. An updated version of the class exists in the langchain-openai package and should be used instead. To use it run `pip install -U langchain-openai` and import as `from langchain_openai import ChatOpenAI`.\n",
      "  warn_deprecated(\n"
     ]
    }
   ],
   "source": [
    "import os\n",
    "from langchain.chat_models import ChatOpenAI\n",
    "os.environ[\"OPENAI_API_KEY\"] = \"YOUR_OPENAI_API_KEY\"\n",
    "llm = ChatOpenAI(temperature=0, model=\"gpt-3.5-turbo-0613\")"
   ]
  },
  {
   "cell_type": "markdown",
   "metadata": {},
   "source": [
    "Importing for async issues"
   ]
  },
  {
   "cell_type": "code",
   "execution_count": 3,
   "metadata": {},
   "outputs": [],
   "source": [
    "import nest_asyncio\n",
    "nest_asyncio.apply()"
   ]
  },
  {
   "cell_type": "markdown",
   "metadata": {},
   "source": [
    "Asynchronous Loading of Web Pages"
   ]
  },
  {
   "cell_type": "code",
   "execution_count": 4,
   "metadata": {},
   "outputs": [],
   "source": [
    "from langchain.document_loaders import AsyncChromiumLoader\n",
    "from langchain.document_transformers import BeautifulSoupTransformer\n",
    "loader = AsyncChromiumLoader([\"https://www.flipkart.com/search?q=iphone\"])\n",
    "docs = loader.load()\n",
    "\n",
    "bs_transformer = BeautifulSoupTransformer()\n",
    "docs_transformed = bs_transformer.transform_documents(\n",
    "        docs, tags_to_extract=[\"div\",\"span\",\"h2\",\"a\"]\n",
    "    )"
   ]
  },
  {
   "cell_type": "code",
   "execution_count": 5,
   "metadata": {},
   "outputs": [
    {
     "data": {
      "text/plain": [
       "[Document(page_content='Explore (/plus) Plus Login (/account/login?ret=/search%3Fq%3Diphone) LOGIN New customer? Sign Up Become a Seller More Cart Electronics TVs & Appliances Men Women Baby & Kids Home & Furniture Sports, Books & More Flights (/travel/flights?otracker=nmenu_Flights) Offer Zone (/offers-list/top-deals?screen=dynamic&pk=themeViews%3DDT-OMU-A2%3ADT-OMU~widgetType%3DdealCard~contentType%3Dneo&otracker=nmenu_offer-zone) Filters CATEGORIES Mobiles & Accessories (/mobiles-accessories/pr?sid=tyy&q=iphone&otracker=categorytree) Mobiles (/mobiles/pr?sid=tyy,4io&q=iphone&otracker=categorytree) Price . . . . . . Min ₹10000 ₹15000 ₹20000 ₹30000 to ₹10000 ₹15000 ₹20000 ₹30000 ₹30000+ Brand APPLE ? Customer Ratings 4★ & above 3★ & above GST Invoice Available RAM 1GB and Below Internal Storage Battery Capacity Screen Size Primary Camera Secondary Camera Processor Brand Speciality Resolution Type Operating System Network Type Sim Type Offers Special Price Buy More, Save More No Cost EMI Features Type Number of Cores Availability Discount 50% or more 40% or more 30% or more 20% or more 10% or more Clock Speed Need help? Help me decide Home (/) Mobiles & Accessories (/mobiles-accessories/pr?sid=tyy&marketplace=FLIPKART) Mobiles (/mobiles/pr?sid=tyy,4io&marketplace=FLIPKART) Showing 1 – 24 of 490 results for \" iphone \" Sort By Relevance Popularity Price -- Low to High Price -- High to Low Newest First Bestseller Add to Compare APPLE iPhone 15 (Black, 128 GB) 4.6 3,976 Ratings & 259 Reviews 128 GB ROM 15.49 cm (6.1 inch) Super Retina XDR Display 48MP + 12MP | 12MP Front Camera A16 Bionic Chip, 6 Core Processor Processor 1 Year Warranty for Phone and 6 Months Warranty for In-Box Accessories ₹66,999 ₹79,900 16% off Add to Compare APPLE iPhone 15 (Blue, 128 GB) 4.6 3,976 Ratings & 259 Reviews 128 GB ROM 15.49 cm (6.1 inch) Super Retina XDR Display 48MP + 12MP | 12MP Front Camera A16 Bionic Chip, 6 Core Processor Processor 1 Year Warranty for Phone and 6 Months Warranty for In-Box Accessories ₹66,999 ₹79,900 16% off Add to Compare APPLE iPhone 14 (Midnight, 128 GB) 4.6 2,64,721 Ratings & 10,338 Reviews 128 GB ROM 15.49 cm (6.1 inch) Super Retina XDR Display 12MP + 12MP | 12MP Front Camera A15 Bionic Chip, 6 Core Processor Processor NA ₹58,999 ₹69,900 15% off Add to Compare APPLE iPhone 14 (Purple, 128 GB) 4.6 2,64,721 Ratings & 10,338 Reviews 128 GB ROM 15.49 cm (6.1 inch) Super Retina XDR Display 12MP + 12MP | 12MP Front Camera A15 Bionic Chip, 6 Core Processor Processor NA ₹58,999 ₹69,900 15% off Add to Compare APPLE iPhone 14 (Starlight, 128 GB) 4.6 2,64,721 Ratings & 10,338 Reviews 128 GB ROM 15.49 cm (6.1 inch) Super Retina XDR Display 12MP + 12MP | 12MP Front Camera A15 Bionic Chip, 6 Core Processor Processor NA ₹58,999 ₹69,900 15% off Add to Compare APPLE iPhone 15 (Green, 128 GB) 4.6 3,976 Ratings & 259 Reviews 128 GB ROM 15.49 cm (6.1 inch) Super Retina XDR Display 48MP + 12MP | 12MP Front Camera A16 Bionic Chip, 6 Core Processor Processor 1 Year Warranty for Phone and 6 Months Warranty for In-Box Accessories ₹66,999 ₹79,900 16% off Add to Compare APPLE iPhone 14 (Blue, 128 GB) 4.6 2,64,721 Ratings & 10,338 Reviews 128 GB ROM 15.49 cm (6.1 inch) Super Retina XDR Display 12MP + 12MP | 12MP Front Camera A15 Bionic Chip, 6 Core Processor Processor NA ₹58,999 ₹69,900 15% off Add to Compare APPLE iPhone 15 Plus (Blue, 128 GB) 4.6 1,402 Ratings & 151 Reviews 128 GB ROM 17.02 cm (6.7 inch) Super Retina XDR Display 48MP + 12MP | 12MP Front Camera A16 Bionic Chip, 6 Core Processor Processor 1 Year Warranty for Phone and 6 Months Warranty for In-Box Accessories ₹76,999 ₹89,900 14% off Add to Compare APPLE iPhone 15 Plus (Black, 128 GB) 4.6 1,402 Ratings & 151 Reviews 128 GB ROM 17.02 cm (6.7 inch) Super Retina XDR Display 48MP + 12MP | 12MP Front Camera A16 Bionic Chip, 6 Core Processor Processor 1 Year Warranty for Phone and 6 Months Warranty for In-Box Accessories ₹76,999 ₹89,900 14% off Add to Compare APPLE iPhone 15 (Blue, 256 GB) 4.6 3,976 Ratings & 259 Reviews 256 GB ROM 15.49 cm (6.1 inch) Super Retina XDR Display 48MP + 12MP | 12MP Front Camera A16 Bionic Chip, 6 Core Processor Processor 1 Year Warranty for Phone and 6 Months Warranty for In-Box Accessories ₹76,999 ₹89,900 14% off Add to Compare APPLE iPhone 15 (Pink, 128 GB) 4.6 3,976 Ratings & 259 Reviews 128 GB ROM 15.49 cm (6.1 inch) Super Retina XDR Display 48MP + 12MP | 12MP Front Camera A16 Bionic Chip, 6 Core Processor Processor 1 Year Warranty for Phone and 6 Months Warranty for In-Box Accessories ₹67,999 ₹79,900 14% off Add to Compare APPLE iPhone 14 (Purple, 256 GB) 4.6 2,64,721 Ratings & 10,338 Reviews 256 GB ROM 15.49 cm (6.1 inch) Super Retina XDR Display 12MP + 12MP | 12MP Front Camera A15 Bionic Chip, 6 Core Processor Processor 1 Year Warranty for Phone and 6 Months Warranty for In-Box Accessories ₹68,999 ₹79,900 13% off Add to Compare APPLE iPhone 13 (Starlight, 128 GB) 4.6 2,76,187 Ratings & 13,453 Reviews 128 GB ROM 15.49 cm (6.1 inch) Super Retina XDR Display 12MP + 12MP | 12MP Front Camera A15 Bionic Chip Processor NA ₹51,999 ₹59,900 13% off Add to Compare APPLE iPhone 13 (Midnight, 128 GB) 4.6 2,76,187 Ratings & 13,453 Reviews 128 GB ROM 15.49 cm (6.1 inch) Super Retina XDR Display 12MP + 12MP | 12MP Front Camera A15 Bionic Chip Processor NA ₹51,999 ₹59,900 13% off Add to Compare APPLE iPhone 15 Plus (Green, 128 GB) 4.6 1,402 Ratings & 151 Reviews 128 GB ROM 17.02 cm (6.7 inch) Super Retina XDR Display 48MP + 12MP | 12MP Front Camera A16 Bionic Chip, 6 Core Processor Processor 1 Year Warranty for Phone and 6 Months Warranty for In-Box Accessories ₹76,999 ₹89,900 14% off Add to Compare APPLE iPhone 15 (Yellow, 128 GB) 4.6 3,976 Ratings & 259 Reviews 128 GB ROM 15.49 cm (6.1 inch) Super Retina XDR Display 48MP + 12MP | 12MP Front Camera A16 Bionic Chip, 6 Core Processor Processor 1 Year Warranty for Phone and 6 Months Warranty for In-Box Accessories ₹66,999 ₹79,900 16% off Add to Compare APPLE iPhone 13 (Green, 128 GB) 4.6 2,76,187 Ratings & 13,453 Reviews 128 GB ROM 15.49 cm (6.1 inch) Super Retina XDR Display 12MP + 12MP | 12MP Front Camera A15 Bionic Chip Processor NA ₹51,999 ₹59,900 13% off Add to Compare APPLE iPhone 14 (Blue, 256 GB) 4.6 2,64,721 Ratings & 10,338 Reviews 256 GB ROM 15.49 cm (6.1 inch) Super Retina XDR Display 12MP + 12MP | 12MP Front Camera A15 Bionic Chip, 6 Core Processor Processor 1 Year Warranty for Phone and 6 Months Warranty for In-Box Accessories ₹68,999 ₹79,900 13% off Add to Compare APPLE iPhone 15 Plus (Yellow, 128 GB) 4.6 1,402 Ratings & 151 Reviews 128 GB ROM 17.02 cm (6.7 inch) Super Retina XDR Display 48MP + 12MP | 12MP Front Camera A16 Bionic Chip, 6 Core Processor Processor 1 Year Warranty for Phone and 6 Months Warranty for In-Box Accessories ₹76,999 ₹89,900 14% off Add to Compare APPLE iPhone 14 ((PRODUCT)RED, 128 GB) 4.6 2,64,721 Ratings & 10,338 Reviews 128 GB ROM 15.49 cm (6.1 inch) Super Retina XDR Display 12MP + 12MP | 12MP Front Camera A15 Bionic Chip, 6 Core Processor Processor NA ₹58,999 ₹69,900 15% off Add to Compare APPLE iPhone 14 Plus (Blue, 128 GB) 4.6 59,273 Ratings & 3,494 Reviews 128 GB ROM 17.02 cm (6.7 inch) Super Retina XDR Display 12MP + 12MP | 12MP Front Camera A15 Bionic Chip, 6 Core Processor Processor NA ₹65,999 ₹79,900 17% off Add to Compare APPLE iPhone 12 (Blue, 64 GB) 4.6 2,07,213 Ratings & 13,743 Reviews 64 GB ROM 15.49 cm (6.1 inch) Super Retina XDR Display 12MP + 12MP | 12MP Front Camera A14 Bionic Chip with Next Generation Neural Engine Processor Ceramic Shield Industry-leading IP68 Water Resistance All Screen OLED Display 12MP TrueDepth Front Camera with Night Mode, 4K Dolby Vision HDR Recording NA ₹41,999 ₹49,900 15% off Add to Compare APPLE iPhone 12 (Blue, 128 GB) 4.6 2,07,213 Ratings & 13,743 Reviews 128 GB ROM 15.49 cm (6.1 inch) Super Retina XDR Display 12MP + 12MP | 12MP Front Camera A14 Bionic Chip with Next Generation Neural Engine Processor Ceramic Shield Industry-leading IP68 Water Resistance All Screen OLED Display 12MP TrueDepth Front Camera with Night Mode, 4K Dolby Vision HDR Recording NA ₹46,999 ₹54,900 14% off Add to Compare APPLE iPhone 12 (White, 64 GB) 4.6 2,07,213 Ratings & 13,743 Reviews 64 GB ROM 15.49 cm (6.1 inch) Super Retina XDR Display 12MP + 12MP | 12MP Front Camera A14 Bionic Chip with Next Generation Neural Engine Processor Ceramic Shield Industry-leading IP68 Water Resistance All Screen OLED Display 12MP TrueDepth Front Camera with Night Mode, 4K Dolby Vision HDR Recording NA ₹41,999 ₹49,900 15% off Page 1 of 21 1 (/search?q=iphone&page=1) 2 (/search?q=iphone&page=2) 3 (/search?q=iphone&page=3) 4 (/search?q=iphone&page=4) 5 (/search?q=iphone&page=5) 6 (/search?q=iphone&page=6) 7 (/search?q=iphone&page=7) 8 (/search?q=iphone&page=8) 9 (/search?q=iphone&page=9) 10 (/search?q=iphone&page=10) Next Did you find what you were looking for? Yes No Reviews for Popular Mobiles 1. APPLE iPhone 13 (Green, 128... 4.6 2,76,187 Ratings & 13,453 Reviews ₹51,999 13% off 128 GB ROM 15.49 cm (6.1 inch) Super Retina XDR Display 12MP + 12MP | 12MP Front Camera Most Helpful Review 5 Perfect product! Awesome battery backup amazing camera, a all day batter backup  improved and brilliant IOs 16.1 oled display dolby speakers and lot more, just close your eye... Read full review Arnab Das Certified Buyer Oct, 2022 Recent Review 5 Terrific Best phone ever.. love it Read full review Nikhil  Nexon Certified Buyer 1 day ago 2. APPLE iPhone 14 Plus (Blue,... 4.6 59,273 Ratings & 3,494 Reviews ₹65,999 17% off 128 GB ROM 17.02 cm (6.7 inch) Super Retina XDR Display 12MP + 12MP | 12MP Front Camera Most Helpful Review 5 Terrific Nice phone with great camera. My 1st iPhone and I m loving it Read full review Priteshkumar Rana Certified Buyer 11 months ago Recent Review 5 Must buy! Camera, looking, design all superb Read full review Nadeem Khan Certified Buyer 1 day ago 3. APPLE iPhone 15 Plus (Blue,... 4.6 1,402 Ratings & 151 Reviews ₹76,999 14% off 128 GB ROM 17.02 cm (6.7 inch) Super Retina XDR Display 48MP + 12MP | 12MP Front Camera Most Helpful Review 5 Terrific Best experience luv it❤️🔥🔥 Read full review Bibhu Bisoi Certified Buyer 3 months ago Recent Review 4 Very Good Superb phone. What really surprised me is the speakers. Really amazing. LONG BATTERY LIFE. Camera is brilliant. Read full review Abin  Jose Certified Buyer 1 day ago 4. APPLE iPhone 15 (Blue, 128 ... 4.6 3,976 Ratings & 259 Reviews ₹66,999 16% off 128 GB ROM 15.49 cm (6.1 inch) Super Retina XDR Display 48MP + 12MP | 12MP Front Camera Most Helpful Review 5 Just wow! Camera Quality Is Improved Loving It Read full review Prithivi Boruah Certified Buyer 3 months ago Recent Review 4 Good choice Product is good... Camara quality is excellent.. better battery expected... Read full review krishna kotakonda Certified Buyer Today 5. APPLE iPhone 14 (Starlight,... 4.6 2,64,721 Ratings & 10,338 Reviews ₹58,999 15% off 128 GB ROM 15.49 cm (6.1 inch) Super Retina XDR Display 12MP + 12MP | 12MP Front Camera Most Helpful Review 5 Fabulous! Best smart phone under this price range compare to other phones in 2023 if you see overall build quality, performance and Camera with autofocus and video act... Read full review Rahul Prasad Certified Buyer 11 months ago Recent Review 5 Classy product Awesome Mobile.Switched from Android to IPhone. 🙌 Read full review Alapaka Praveen Kumar Certified Buyer Today ABOUT Contact Us (/helpcentre?otracker=undefined_footer_navlinks) About Us (https://corporate.flipkart.net/corporate-home) Careers (https://www.flipkartcareers.com/?otracker=undefined_footer_navlinks) Flipkart Stories (http://stories.flipkart.com/?otracker=undefined_footer_navlinks) Press (http://stories.flipkart.com/category/top-stories/news/) Flipkart Wholesale (https://www.flipkartwholesale.com/?otracker=undefined_footer_navlinks) Cleartrip (https://www.cleartrip.com/) Corporate Information (/corporate-information) HELP Payments (/pages/payments) Shipping (/pages/shipping) Cancellation & Returns (/helpcentre?catalog=55c9c6edb000002e002c1701&view=CATALOG) FAQ (/helpcentre?catalog=55c9c8e2b0000023002c1702&view=CATALOG) Report Infringement (https://seller.flipkart.com/fiv?otracker=undefined_footer_navlinks) CONSUMER POLICY Cancellation & Returns (/pages/returnpolicy?otracker=undefined_footer_navlinks) Terms Of Use (/pages/terms?otracker=undefined_footer_navlinks) Security (/pages/paymentsecurity?otracker=undefined_footer_navlinks) Privacy (/pages/privacypolicy?otracker=undefined_footer_navlinks) Sitemap (/sitemap?otracker=undefined_footer_navlinks) Grievance Redressal (/pages/grievance-redressal-mechanism?otracker=undefined_footer_navlinks) EPR Compliance (/pages/ewaste-compliance-tnc?otracker=undefined_footer_navlinks) SOCIAL Facebook (https://www.facebook.com/flipkart) Twitter (https://www.twitter.com/flipkart) YouTube (https://www.youtube.com/flipkart) Mail Us: Flipkart Internet Private Limited,  Buildings Alyssa, Begonia &  Clove Embassy Tech Village,  Outer Ring Road, Devarabeesanahalli Village,  Bengaluru, 560103,  Karnataka, India  Registered Office Address: Flipkart Internet Private Limited,  Buildings Alyssa, Begonia &  Clove Embassy Tech Village,  Outer Ring Road, Devarabeesanahalli Village,  Bengaluru, 560103,  Karnataka, India  CIN : U51109KA2012PTC066107  Telephone: 044-45614700 (tel:044-45614700)  Become a Seller Advertise Gift Cards Help Center © 2007-2024 Flipkart.com Back to top', metadata={'source': 'https://www.flipkart.com/search?q=iphone'})]"
      ]
     },
     "execution_count": 5,
     "metadata": {},
     "output_type": "execute_result"
    }
   ],
   "source": [
    "docs_transformed"
   ]
  },
  {
   "cell_type": "markdown",
   "metadata": {},
   "source": [
    "Splitting Text into Manageable Chunks"
   ]
  },
  {
   "cell_type": "code",
   "execution_count": 6,
   "metadata": {},
   "outputs": [],
   "source": [
    "from langchain.text_splitter import RecursiveCharacterTextSplitter"
   ]
  },
  {
   "cell_type": "code",
   "execution_count": 7,
   "metadata": {},
   "outputs": [],
   "source": [
    "splitter=RecursiveCharacterTextSplitter.from_tiktoken_encoder(chunk_size=1000, chunk_overlap=0)\n",
    "splits = splitter.split_documents(docs_transformed)"
   ]
  },
  {
   "cell_type": "code",
   "execution_count": 8,
   "metadata": {},
   "outputs": [
    {
     "data": {
      "text/plain": [
       "[Document(page_content='Explore (/plus) Plus Login (/account/login?ret=/search%3Fq%3Diphone) LOGIN New customer? Sign Up Become a Seller More Cart Electronics TVs & Appliances Men Women Baby & Kids Home & Furniture Sports, Books & More Flights (/travel/flights?otracker=nmenu_Flights) Offer Zone (/offers-list/top-deals?screen=dynamic&pk=themeViews%3DDT-OMU-A2%3ADT-OMU~widgetType%3DdealCard~contentType%3Dneo&otracker=nmenu_offer-zone) Filters CATEGORIES Mobiles & Accessories (/mobiles-accessories/pr?sid=tyy&q=iphone&otracker=categorytree) Mobiles (/mobiles/pr?sid=tyy,4io&q=iphone&otracker=categorytree) Price . . . . . . Min ₹10000 ₹15000 ₹20000 ₹30000 to ₹10000 ₹15000 ₹20000 ₹30000 ₹30000+ Brand APPLE ? Customer Ratings 4★ & above 3★ & above GST Invoice Available RAM 1GB and Below Internal Storage Battery Capacity Screen Size Primary Camera Secondary Camera Processor Brand Speciality Resolution Type Operating System Network Type Sim Type Offers Special Price Buy More, Save More No Cost EMI Features Type Number of Cores Availability Discount 50% or more 40% or more 30% or more 20% or more 10% or more Clock Speed Need help? Help me decide Home (/) Mobiles & Accessories (/mobiles-accessories/pr?sid=tyy&marketplace=FLIPKART) Mobiles (/mobiles/pr?sid=tyy,4io&marketplace=FLIPKART) Showing 1 – 24 of 490 results for \" iphone \" Sort By Relevance Popularity Price -- Low to High Price -- High to Low Newest First Bestseller Add to Compare APPLE iPhone 15 (Black, 128 GB) 4.6 3,976 Ratings & 259 Reviews 128 GB ROM 15.49 cm (6.1 inch) Super Retina XDR Display 48MP + 12MP | 12MP Front Camera A16 Bionic Chip, 6 Core Processor Processor 1 Year Warranty for Phone and 6 Months Warranty for In-Box Accessories ₹66,999 ₹79,900 16% off Add to Compare APPLE iPhone 15 (Blue, 128 GB) 4.6 3,976 Ratings & 259 Reviews 128 GB ROM 15.49 cm (6.1 inch) Super Retina XDR Display 48MP + 12MP | 12MP Front Camera A16 Bionic Chip, 6 Core Processor Processor 1 Year Warranty for Phone and 6 Months Warranty for In-Box Accessories ₹66,999 ₹79,900 16% off Add to Compare APPLE iPhone 14 (Midnight, 128 GB) 4.6 2,64,721 Ratings & 10,338 Reviews 128 GB ROM 15.49 cm (6.1 inch) Super Retina XDR Display 12MP + 12MP | 12MP Front Camera A15 Bionic Chip, 6 Core Processor Processor NA ₹58,999 ₹69,900 15% off Add to Compare APPLE iPhone 14 (Purple, 128 GB) 4.6 2,64,721 Ratings & 10,338 Reviews 128 GB ROM 15.49 cm (6.1 inch) Super Retina XDR Display 12MP + 12MP | 12MP Front Camera A15 Bionic Chip, 6 Core Processor Processor NA ₹58,999 ₹69,900 15% off Add to Compare APPLE iPhone 14 (Starlight, 128 GB) 4.6 2,64,721 Ratings & 10,338 Reviews 128 GB ROM 15.49 cm (6.1 inch) Super Retina XDR Display 12MP + 12MP | 12MP Front Camera A15 Bionic Chip, 6 Core Processor Processor NA ₹58,999 ₹69,900 15% off Add to Compare APPLE iPhone 15 (Green, 128 GB) 4.6 3,976 Ratings & 259 Reviews 128 GB ROM 15.49 cm (6.1 inch) Super Retina XDR Display 48MP + 12MP | 12MP Front Camera A16 Bionic Chip, 6 Core Processor Processor 1 Year Warranty for Phone and 6 Months Warranty for In-Box Accessories ₹66,999 ₹79,900 16% off Add to Compare APPLE iPhone 14 (Blue, 128 GB) 4.6 2,64,721 Ratings & 10,338 Reviews 128 GB', metadata={'source': 'https://www.flipkart.com/search?q=iphone'}),\n",
       " Document(page_content='ROM 15.49 cm (6.1 inch) Super Retina XDR Display 12MP + 12MP | 12MP Front Camera A15 Bionic Chip, 6 Core Processor Processor NA ₹58,999 ₹69,900 15% off Add to Compare APPLE iPhone 15 Plus (Blue, 128 GB) 4.6 1,402 Ratings & 151 Reviews 128 GB ROM 17.02 cm (6.7 inch) Super Retina XDR Display 48MP + 12MP | 12MP Front Camera A16 Bionic Chip, 6 Core Processor Processor 1 Year Warranty for Phone and 6 Months Warranty for In-Box Accessories ₹76,999 ₹89,900 14% off Add to Compare APPLE iPhone 15 Plus (Black, 128 GB) 4.6 1,402 Ratings & 151 Reviews 128 GB ROM 17.02 cm (6.7 inch) Super Retina XDR Display 48MP + 12MP | 12MP Front Camera A16 Bionic Chip, 6 Core Processor Processor 1 Year Warranty for Phone and 6 Months Warranty for In-Box Accessories ₹76,999 ₹89,900 14% off Add to Compare APPLE iPhone 15 (Blue, 256 GB) 4.6 3,976 Ratings & 259 Reviews 256 GB ROM 15.49 cm (6.1 inch) Super Retina XDR Display 48MP + 12MP | 12MP Front Camera A16 Bionic Chip, 6 Core Processor Processor 1 Year Warranty for Phone and 6 Months Warranty for In-Box Accessories ₹76,999 ₹89,900 14% off Add to Compare APPLE iPhone 15 (Pink, 128 GB) 4.6 3,976 Ratings & 259 Reviews 128 GB ROM 15.49 cm (6.1 inch) Super Retina XDR Display 48MP + 12MP | 12MP Front Camera A16 Bionic Chip, 6 Core Processor Processor 1 Year Warranty for Phone and 6 Months Warranty for In-Box Accessories ₹67,999 ₹79,900 14% off Add to Compare APPLE iPhone 14 (Purple, 256 GB) 4.6 2,64,721 Ratings & 10,338 Reviews 256 GB ROM 15.49 cm (6.1 inch) Super Retina XDR Display 12MP + 12MP | 12MP Front Camera A15 Bionic Chip, 6 Core Processor Processor 1 Year Warranty for Phone and 6 Months Warranty for In-Box Accessories ₹68,999 ₹79,900 13% off Add to Compare APPLE iPhone 13 (Starlight, 128 GB) 4.6 2,76,187 Ratings & 13,453 Reviews 128 GB ROM 15.49 cm (6.1 inch) Super Retina XDR Display 12MP + 12MP | 12MP Front Camera A15 Bionic Chip Processor NA ₹51,999 ₹59,900 13% off Add to Compare APPLE iPhone 13 (Midnight, 128 GB) 4.6 2,76,187 Ratings & 13,453 Reviews 128 GB ROM 15.49 cm (6.1 inch) Super Retina XDR Display 12MP + 12MP | 12MP Front Camera A15 Bionic Chip Processor NA ₹51,999 ₹59,900 13% off Add to Compare APPLE iPhone 15 Plus (Green, 128 GB) 4.6 1,402 Ratings & 151 Reviews 128 GB ROM 17.02 cm (6.7 inch) Super Retina XDR Display 48MP + 12MP | 12MP Front Camera A16 Bionic Chip, 6 Core Processor Processor 1 Year Warranty for Phone and 6 Months Warranty for In-Box Accessories ₹76,999 ₹89,900 14% off Add to Compare APPLE iPhone 15 (Yellow, 128 GB) 4.6 3,976 Ratings & 259 Reviews 128 GB ROM 15.49 cm (6.1 inch) Super Retina XDR Display 48MP + 12MP | 12MP Front Camera A16 Bionic Chip, 6 Core Processor Processor 1 Year Warranty for Phone and 6 Months Warranty for In-Box Accessories ₹66,999 ₹79,900 16% off Add to Compare APPLE iPhone 13 (Green, 128 GB) 4.6 2,76,187 Ratings & 13,453 Reviews 128 GB ROM 15.49 cm (6.1 inch) Super Retina XDR Display 12MP + 12MP | 12MP Front Camera A15 Bionic Chip Processor NA ₹51,999 ₹59,900 13% off Add to Compare APPLE iPhone 14 (Blue, 256 GB) 4.6 2,64,721 Ratings & 10,338 Reviews 256 GB ROM 15.49 cm (6.1 inch) Super Retina XDR Display 12MP + 12MP | 12MP Front Camera A15 Bionic', metadata={'source': 'https://www.flipkart.com/search?q=iphone'}),\n",
       " Document(page_content='Chip, 6 Core Processor Processor 1 Year Warranty for Phone and 6 Months Warranty for In-Box Accessories ₹68,999 ₹79,900 13% off Add to Compare APPLE iPhone 15 Plus (Yellow, 128 GB) 4.6 1,402 Ratings & 151 Reviews 128 GB ROM 17.02 cm (6.7 inch) Super Retina XDR Display 48MP + 12MP | 12MP Front Camera A16 Bionic Chip, 6 Core Processor Processor 1 Year Warranty for Phone and 6 Months Warranty for In-Box Accessories ₹76,999 ₹89,900 14% off Add to Compare APPLE iPhone 14 ((PRODUCT)RED, 128 GB) 4.6 2,64,721 Ratings & 10,338 Reviews 128 GB ROM 15.49 cm (6.1 inch) Super Retina XDR Display 12MP + 12MP | 12MP Front Camera A15 Bionic Chip, 6 Core Processor Processor NA ₹58,999 ₹69,900 15% off Add to Compare APPLE iPhone 14 Plus (Blue, 128 GB) 4.6 59,273 Ratings & 3,494 Reviews 128 GB ROM 17.02 cm (6.7 inch) Super Retina XDR Display 12MP + 12MP | 12MP Front Camera A15 Bionic Chip, 6 Core Processor Processor NA ₹65,999 ₹79,900 17% off Add to Compare APPLE iPhone 12 (Blue, 64 GB) 4.6 2,07,213 Ratings & 13,743 Reviews 64 GB ROM 15.49 cm (6.1 inch) Super Retina XDR Display 12MP + 12MP | 12MP Front Camera A14 Bionic Chip with Next Generation Neural Engine Processor Ceramic Shield Industry-leading IP68 Water Resistance All Screen OLED Display 12MP TrueDepth Front Camera with Night Mode, 4K Dolby Vision HDR Recording NA ₹41,999 ₹49,900 15% off Add to Compare APPLE iPhone 12 (Blue, 128 GB) 4.6 2,07,213 Ratings & 13,743 Reviews 128 GB ROM 15.49 cm (6.1 inch) Super Retina XDR Display 12MP + 12MP | 12MP Front Camera A14 Bionic Chip with Next Generation Neural Engine Processor Ceramic Shield Industry-leading IP68 Water Resistance All Screen OLED Display 12MP TrueDepth Front Camera with Night Mode, 4K Dolby Vision HDR Recording NA ₹46,999 ₹54,900 14% off Add to Compare APPLE iPhone 12 (White, 64 GB) 4.6 2,07,213 Ratings & 13,743 Reviews 64 GB ROM 15.49 cm (6.1 inch) Super Retina XDR Display 12MP + 12MP | 12MP Front Camera A14 Bionic Chip with Next Generation Neural Engine Processor Ceramic Shield Industry-leading IP68 Water Resistance All Screen OLED Display 12MP TrueDepth Front Camera with Night Mode, 4K Dolby Vision HDR Recording NA ₹41,999 ₹49,900 15% off Page 1 of 21 1 (/search?q=iphone&page=1) 2 (/search?q=iphone&page=2) 3 (/search?q=iphone&page=3) 4 (/search?q=iphone&page=4) 5 (/search?q=iphone&page=5) 6 (/search?q=iphone&page=6) 7 (/search?q=iphone&page=7) 8 (/search?q=iphone&page=8) 9 (/search?q=iphone&page=9) 10 (/search?q=iphone&page=10) Next Did you find what you were looking for? Yes No Reviews for Popular Mobiles 1. APPLE iPhone 13 (Green, 128... 4.6 2,76,187 Ratings & 13,453 Reviews ₹51,999 13% off 128 GB ROM 15.49 cm (6.1 inch) Super Retina XDR Display 12MP + 12MP | 12MP Front Camera Most Helpful Review 5 Perfect product! Awesome battery backup amazing camera, a all day batter backup  improved and brilliant IOs 16.1 oled display dolby speakers and lot more, just close your eye... Read full review Arnab Das Certified Buyer Oct, 2022 Recent Review 5 Terrific Best phone ever.. love it Read full review Nikhil  Nexon Certified Buyer 1 day ago 2. APPLE iPhone 14 Plus (Blue,... 4.6 59,273 Ratings & 3,494 Reviews ₹65,999 17% off 128 GB ROM 17.02 cm (6.7 inch) Super Retina XDR Display 12MP + 12MP | 12MP Front Camera Most Helpful Review 5 Terrific', metadata={'source': 'https://www.flipkart.com/search?q=iphone'}),\n",
       " Document(page_content='Nice phone with great camera. My 1st iPhone and I m loving it Read full review Priteshkumar Rana Certified Buyer 11 months ago Recent Review 5 Must buy! Camera, looking, design all superb Read full review Nadeem Khan Certified Buyer 1 day ago 3. APPLE iPhone 15 Plus (Blue,... 4.6 1,402 Ratings & 151 Reviews ₹76,999 14% off 128 GB ROM 17.02 cm (6.7 inch) Super Retina XDR Display 48MP + 12MP | 12MP Front Camera Most Helpful Review 5 Terrific Best experience luv it❤️🔥🔥 Read full review Bibhu Bisoi Certified Buyer 3 months ago Recent Review 4 Very Good Superb phone. What really surprised me is the speakers. Really amazing. LONG BATTERY LIFE. Camera is brilliant. Read full review Abin  Jose Certified Buyer 1 day ago 4. APPLE iPhone 15 (Blue, 128 ... 4.6 3,976 Ratings & 259 Reviews ₹66,999 16% off 128 GB ROM 15.49 cm (6.1 inch) Super Retina XDR Display 48MP + 12MP | 12MP Front Camera Most Helpful Review 5 Just wow! Camera Quality Is Improved Loving It Read full review Prithivi Boruah Certified Buyer 3 months ago Recent Review 4 Good choice Product is good... Camara quality is excellent.. better battery expected... Read full review krishna kotakonda Certified Buyer Today 5. APPLE iPhone 14 (Starlight,... 4.6 2,64,721 Ratings & 10,338 Reviews ₹58,999 15% off 128 GB ROM 15.49 cm (6.1 inch) Super Retina XDR Display 12MP + 12MP | 12MP Front Camera Most Helpful Review 5 Fabulous! Best smart phone under this price range compare to other phones in 2023 if you see overall build quality, performance and Camera with autofocus and video act... Read full review Rahul Prasad Certified Buyer 11 months ago Recent Review 5 Classy product Awesome Mobile.Switched from Android to IPhone. 🙌 Read full review Alapaka Praveen Kumar Certified Buyer Today ABOUT Contact Us (/helpcentre?otracker=undefined_footer_navlinks) About Us (https://corporate.flipkart.net/corporate-home) Careers (https://www.flipkartcareers.com/?otracker=undefined_footer_navlinks) Flipkart Stories (http://stories.flipkart.com/?otracker=undefined_footer_navlinks) Press (http://stories.flipkart.com/category/top-stories/news/) Flipkart Wholesale (https://www.flipkartwholesale.com/?otracker=undefined_footer_navlinks) Cleartrip (https://www.cleartrip.com/) Corporate Information (/corporate-information) HELP Payments (/pages/payments) Shipping (/pages/shipping) Cancellation & Returns (/helpcentre?catalog=55c9c6edb000002e002c1701&view=CATALOG) FAQ (/helpcentre?catalog=55c9c8e2b0000023002c1702&view=CATALOG) Report Infringement (https://seller.flipkart.com/fiv?otracker=undefined_footer_navlinks) CONSUMER POLICY Cancellation & Returns (/pages/returnpolicy?otracker=undefined_footer_navlinks) Terms Of Use (/pages/terms?otracker=undefined_footer_navlinks) Security (/pages/paymentsecurity?otracker=undefined_footer_navlinks) Privacy (/pages/privacypolicy?otracker=undefined_footer_navlinks) Sitemap (/sitemap?otracker=undefined_footer_navlinks) Grievance Redressal (/pages/grievance-redressal-mechanism?otracker=undefined_footer_navlinks) EPR Compliance (/pages/ewaste-compliance-tnc?otracker=undefined_footer_navlinks) SOCIAL Facebook (https://www.facebook.com/flipkart) Twitter (https://www.twitter.com/flipkart) YouTube (https://www.youtube.com/flipkart) Mail Us: Flipkart Internet Private Limited,  Buildings Alyssa, Begonia &  Clove Embassy Tech Village,  Outer', metadata={'source': 'https://www.flipkart.com/search?q=iphone'}),\n",
       " Document(page_content='Ring Road, Devarabeesanahalli Village,  Bengaluru, 560103,  Karnataka, India  Registered Office Address: Flipkart Internet Private Limited,  Buildings Alyssa, Begonia &  Clove Embassy Tech Village,  Outer Ring Road, Devarabeesanahalli Village,  Bengaluru, 560103,  Karnataka, India  CIN : U51109KA2012PTC066107  Telephone: 044-45614700 (tel:044-45614700)  Become a Seller Advertise Gift Cards Help Center © 2007-2024 Flipkart.com Back to top', metadata={'source': 'https://www.flipkart.com/search?q=iphone'})]"
      ]
     },
     "execution_count": 8,
     "metadata": {},
     "output_type": "execute_result"
    }
   ],
   "source": [
    "splits"
   ]
  },
  {
   "cell_type": "markdown",
   "metadata": {},
   "source": [
    "Defining Data Extraction Schema"
   ]
  },
  {
   "cell_type": "code",
   "execution_count": 9,
   "metadata": {},
   "outputs": [],
   "source": [
    "from langchain.chains import create_extraction_chain\n",
    "schema = {\n",
    "    \"properties\": {\n",
    "        \"product_title\": {\"type\": \"string\"},\n",
    "        \"product_mrp\": {\"type\": \"integer\"},\n",
    "        \"product_description\":{\"type\": \"array\", \"items\": {\"type\": \"string\"}},\n",
    "        \"product_reviews_count\":{\"type\": \"string\"}\n",
    "    },\n",
    "    \"required\": [\"product_title\",\"product_mrp\",\"product_description\"],\n",
    "}\n",
    "def extract(content: str, schema: dict):\n",
    "    return create_extraction_chain(schema=schema, llm=llm).run(content)"
   ]
  },
  {
   "cell_type": "markdown",
   "metadata": {},
   "source": [
    "Data Extraction"
   ]
  },
  {
   "cell_type": "code",
   "execution_count": 10,
   "metadata": {},
   "outputs": [
    {
     "name": "stderr",
     "output_type": "stream",
     "text": [
      "/Users/edwarddennispraveen/Documents/azure_meetup/meetup/lib/python3.9/site-packages/langchain_core/_api/deprecation.py:117: LangChainDeprecationWarning: The function `run` was deprecated in LangChain 0.1.0 and will be removed in 0.2.0. Use invoke instead.\n",
      "  warn_deprecated(\n"
     ]
    }
   ],
   "source": [
    "extracted_content = extract(schema=schema, content=splits[0].page_content)"
   ]
  },
  {
   "cell_type": "code",
   "execution_count": 11,
   "metadata": {},
   "outputs": [
    {
     "data": {
      "text/plain": [
       "[{'product_title': 'APPLE iPhone 15 (Black, 128 GB)',\n",
       "  'product_mrp': 66999,\n",
       "  'product_description': ['128 GB ROM',\n",
       "   '15.49 cm (6.1 inch) Super Retina XDR Display',\n",
       "   '48MP + 12MP | 12MP Front Camera',\n",
       "   'A16 Bionic Chip, 6 Core Processor',\n",
       "   '1 Year Warranty for Phone and 6 Months Warranty for In-Box Accessories'],\n",
       "  'product_reviews_count': '3,976 Ratings & 259 Reviews'},\n",
       " {'product_title': 'APPLE iPhone 15 (Blue, 128 GB)',\n",
       "  'product_mrp': 66999,\n",
       "  'product_description': ['128 GB ROM',\n",
       "   '15.49 cm (6.1 inch) Super Retina XDR Display',\n",
       "   '48MP + 12MP | 12MP Front Camera',\n",
       "   'A16 Bionic Chip, 6 Core Processor',\n",
       "   '1 Year Warranty for Phone and 6 Months Warranty for In-Box Accessories'],\n",
       "  'product_reviews_count': '3,976 Ratings & 259 Reviews'},\n",
       " {'product_title': 'APPLE iPhone 14 (Midnight, 128 GB)',\n",
       "  'product_mrp': 58999,\n",
       "  'product_description': ['128 GB ROM',\n",
       "   '15.49 cm (6.1 inch) Super Retina XDR Display',\n",
       "   '12MP + 12MP | 12MP Front Camera',\n",
       "   'A15 Bionic Chip, 6 Core Processor',\n",
       "   'NA'],\n",
       "  'product_reviews_count': '2,64,721 Ratings & 10,338 Reviews'},\n",
       " {'product_title': 'APPLE iPhone 14 (Purple, 128 GB)',\n",
       "  'product_mrp': 58999,\n",
       "  'product_description': ['128 GB ROM',\n",
       "   '15.49 cm (6.1 inch) Super Retina XDR Display',\n",
       "   '12MP + 12MP | 12MP Front Camera',\n",
       "   'A15 Bionic Chip, 6 Core Processor',\n",
       "   'NA'],\n",
       "  'product_reviews_count': '2,64,721 Ratings & 10,338 Reviews'},\n",
       " {'product_title': 'APPLE iPhone 14 (Starlight, 128 GB)',\n",
       "  'product_mrp': 58999,\n",
       "  'product_description': ['128 GB ROM',\n",
       "   '15.49 cm (6.1 inch) Super Retina XDR Display',\n",
       "   '12MP + 12MP | 12MP Front Camera',\n",
       "   'A15 Bionic Chip, 6 Core Processor',\n",
       "   'NA'],\n",
       "  'product_reviews_count': '2,64,721 Ratings & 10,338 Reviews'},\n",
       " {'product_title': 'APPLE iPhone 15 (Green, 128 GB)',\n",
       "  'product_mrp': 66999,\n",
       "  'product_description': ['128 GB ROM',\n",
       "   '15.49 cm (6.1 inch) Super Retina XDR Display',\n",
       "   '48MP + 12MP | 12MP Front Camera',\n",
       "   'A16 Bionic Chip, 6 Core Processor',\n",
       "   '1 Year Warranty for Phone and 6 Months Warranty for In-Box Accessories'],\n",
       "  'product_reviews_count': '3,976 Ratings & 259 Reviews'},\n",
       " {'product_title': 'APPLE iPhone 14 (Blue, 128 GB)',\n",
       "  'product_mrp': 58999,\n",
       "  'product_description': ['128 GB'],\n",
       "  'product_reviews_count': '2,64,721 Ratings & 10,338 Reviews'}]"
      ]
     },
     "execution_count": 11,
     "metadata": {},
     "output_type": "execute_result"
    }
   ],
   "source": [
    "extracted_content"
   ]
  },
  {
   "cell_type": "code",
   "execution_count": null,
   "metadata": {},
   "outputs": [],
   "source": []
  }
 ],
 "metadata": {
  "kernelspec": {
   "display_name": "meetup",
   "language": "python",
   "name": "python3"
  },
  "language_info": {
   "codemirror_mode": {
    "name": "ipython",
    "version": 3
   },
   "file_extension": ".py",
   "mimetype": "text/x-python",
   "name": "python",
   "nbconvert_exporter": "python",
   "pygments_lexer": "ipython3",
   "version": "3.9.6"
  }
 },
 "nbformat": 4,
 "nbformat_minor": 2
}
