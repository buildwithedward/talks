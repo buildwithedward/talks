{
 "cells": [
  {
   "cell_type": "code",
   "execution_count": null,
   "metadata": {},
   "outputs": [],
   "source": [
    "import os\n",
    "import openai\n",
    "from openai import OpenAI\n",
    "\n",
    "from dotenv import load_dotenv, find_dotenv\n",
    "_ = load_dotenv(find_dotenv())\n",
    "\n",
    "openai.api_key = os.environ['OPENAI_API_KEY']"
   ]
  },
  {
   "cell_type": "code",
   "execution_count": 2,
   "metadata": {},
   "outputs": [],
   "source": [
    "llm_model = \"gpt-3.5-turbo-0301\"\n",
    "chat_completion = OpenAI()\n",
    "\n",
    "def get_completion(prompt, model=llm_model):\n",
    "    messages = [{\"role\": \"user\", \"content\": prompt}]\n",
    "    response = chat_completion.chat.completions.create(\n",
    "        model=model,\n",
    "        messages=messages,\n",
    "        temperature=0, \n",
    "    )\n",
    "    return response.choices[0].message.content"
   ]
  },
  {
   "cell_type": "code",
   "execution_count": 3,
   "metadata": {},
   "outputs": [
    {
     "data": {
      "text/plain": [
       "'Q: I hate Mondays. A: Negative\\nQ: The traffic is terrible today. A: Negative\\nQ: My boss is always criticizing me. A: Negative\\nQ: I failed my exam. A: Negative\\nQ: The weather is so gloomy. A: Negative\\n\\nQ: I love spending time with my family. A: Positive\\nQ: I got a promotion at work. A: Positive\\nQ: My best friend surprised me with a visit. A: Positive\\nQ: I just got engaged! A: Positive\\nQ: I received a compliment from a stranger. A: Positive\\nQ: I won a prize in a contest. A: Positive\\nQ: I love the smell of fresh flowers. A: Positive\\nQ: I had a great workout at the gym. A: Positive'"
      ]
     },
     "execution_count": 3,
     "metadata": {},
     "output_type": "execute_result"
    }
   ],
   "source": [
    "get_completion(\"Produce 20 exemplars for sentiment analysis. \\\n",
    "            Examples are categorized as either positive or negative. \\\n",
    "                Produce 5 negative examples and 8 positive examples. \\\n",
    "                    Use this format for the examples: \\\n",
    "Q: <sentence> \\\n",
    "A: <sentiment>\")"
   ]
  },
  {
   "cell_type": "code",
   "execution_count": null,
   "metadata": {},
   "outputs": [],
   "source": []
  }
 ],
 "metadata": {
  "kernelspec": {
   "display_name": "meetup",
   "language": "python",
   "name": "python3"
  },
  "language_info": {
   "codemirror_mode": {
    "name": "ipython",
    "version": 3
   },
   "file_extension": ".py",
   "mimetype": "text/x-python",
   "name": "python",
   "nbconvert_exporter": "python",
   "pygments_lexer": "ipython3",
   "version": "3.9.6"
  }
 },
 "nbformat": 4,
 "nbformat_minor": 2
}
